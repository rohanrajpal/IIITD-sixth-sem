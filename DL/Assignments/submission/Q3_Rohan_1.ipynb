{
  "nbformat": 4,
  "nbformat_minor": 0,
  "metadata": {
    "colab": {
      "name": "Q3-Rohan-1.ipynb",
      "provenance": [],
      "collapsed_sections": []
    },
    "kernelspec": {
      "name": "python3",
      "display_name": "Python 3"
    },
    "accelerator": "GPU"
  },
  "cells": [
    {
      "cell_type": "code",
      "metadata": {
        "id": "yNragGzDDVMA",
        "colab_type": "code",
        "outputId": "5f129a6a-d7e9-459c-864d-660cd72f4eff",
        "cellView": "both",
        "colab": {
          "base_uri": "https://localhost:8080/",
          "height": 161
        }
      },
      "source": [
        "#@title Colab Mount\n",
        "from google.colab import drive\n",
        "drive.mount('/content/drive')\n",
        "\n",
        "PROJECT_PATH = \"/content/drive/My Drive/Deep_Learning_Assignments/Assignment1/Q3\"\n",
        "# !git clone \"https://85869b109f25ac5241470005fcd8ead1673b1329@github.com/rohanrajpal/dlassignment1.git\"\n",
        "%cd {PROJECT_PATH}\n",
        "\n",
        "%cd dlassignment1/q3\n",
        "\n",
        "!git config --global user.email \"rohan17089@iiitd.ac.in\"\n",
        "!git config --global user.name \"Rohan Rajpal\"\n",
        "\n",
        "# !sudo apt-get install fish -qq > /dev/null\n",
        "# !sudo apt-get install tmux -qq > /dev/null\n",
        "\n",
        "%load_ext autoreload\n",
        "# %cd .."
      ],
      "execution_count": 0,
      "outputs": [
        {
          "output_type": "stream",
          "text": [
            "Go to this URL in a browser: https://accounts.google.com/o/oauth2/auth?client_id=947318989803-6bn6qk8qdgf4n4g3pfee6491hc0brc4i.apps.googleusercontent.com&redirect_uri=urn%3aietf%3awg%3aoauth%3a2.0%3aoob&response_type=code&scope=email%20https%3a%2f%2fwww.googleapis.com%2fauth%2fdocs.test%20https%3a%2f%2fwww.googleapis.com%2fauth%2fdrive%20https%3a%2f%2fwww.googleapis.com%2fauth%2fdrive.photos.readonly%20https%3a%2f%2fwww.googleapis.com%2fauth%2fpeopleapi.readonly\n",
            "\n",
            "Enter your authorization code:\n",
            "··········\n",
            "Mounted at /content/drive\n",
            "/content/drive/My Drive/Deep_Learning_Assignments/Assignment1/Q3\n",
            "/content/drive/My Drive/Deep_Learning_Assignments/Assignment1/Q3/dlassignment1/q3\n"
          ],
          "name": "stdout"
        }
      ]
    },
    {
      "cell_type": "code",
      "metadata": {
        "id": "RXBNLJR1eNhb",
        "colab_type": "code",
        "cellView": "form",
        "outputId": "71899db8-87c7-4cfc-e186-75a43f24c880",
        "colab": {
          "base_uri": "https://localhost:8080/",
          "height": 261
        }
      },
      "source": [
        "#@title Password for SSHD\n",
        "#1 - setup ssh/user \n",
        "\n",
        "\n",
        "#Generate a random root password\n",
        "import random, string\n",
        "password = ''.join(random.choice(string.ascii_letters + string.digits) for i in range(30))\n",
        "\n",
        "\n",
        "#Setup sshd\n",
        "! apt-get install -qq -o=Dpkg::Use-Pty=0 openssh-server pwgen > /dev/null\n",
        "\n",
        "#Set root password\n",
        "! echo root:$password | chpasswd\n",
        "! mkdir -p /var/run/sshd\n",
        "! echo \"PermitRootLogin yes\" >> /etc/ssh/sshd_config\n",
        "! echo \"PasswordAuthentication yes\" >> /etc/ssh/sshd_config\n",
        "\n",
        "print(\"username: root\")\n",
        "print(\"password: \", password)\n",
        "\n",
        "#Run sshd\n",
        "get_ipython().system_raw('/usr/sbin/sshd -D &')"
      ],
      "execution_count": 0,
      "outputs": [
        {
          "output_type": "stream",
          "text": [
            "\n",
            "Creating config file /etc/ssh/sshd_config with new version\n",
            "Creating SSH2 RSA key; this may take some time ...\n",
            "2048 SHA256:vj9+FuN0nBhkmTM6aK4MKk/Okeyb0z7CyV7y8CFNhzQ root@7d18f00a1e4f (RSA)\n",
            "Creating SSH2 ECDSA key; this may take some time ...\n",
            "256 SHA256:lar1pyaEVVAs9o/MnpBXMpQi1ymzHSTtSwQygn4jcKM root@7d18f00a1e4f (ECDSA)\n",
            "Creating SSH2 ED25519 key; this may take some time ...\n",
            "256 SHA256:Od8r1j/hTbCqeDEcNHVjBJ8+cKe88OLevMUJ9DKZIP0 root@7d18f00a1e4f (ED25519)\n",
            "Created symlink /etc/systemd/system/sshd.service → /lib/systemd/system/ssh.service.\n",
            "Created symlink /etc/systemd/system/multi-user.target.wants/ssh.service → /lib/systemd/system/ssh.service.\n",
            "invoke-rc.d: could not determine current runlevel\n",
            "invoke-rc.d: policy-rc.d denied execution of start.\n",
            "username: root\n",
            "password:  NhFTLGDyyX5BgKyiUtQBwCuLTBUNVR\n"
          ],
          "name": "stdout"
        }
      ]
    },
    {
      "cell_type": "code",
      "metadata": {
        "id": "60zUgCR4QSdX",
        "colab_type": "code",
        "colab": {}
      },
      "source": [
        "# Collapse\n",
        "# 2 - Download Ngrok\n",
        "\n",
        "# ! wget -q -c -nc https://bin.equinox.io/c/4VmDzA7iaHb/ngrok-stable-linux-amd64.zip\n",
        "# ! unzip -qq -n ngrok-stable-linux-amd64.zip\n"
      ],
      "execution_count": 0,
      "outputs": []
    },
    {
      "cell_type": "code",
      "metadata": {
        "id": "SRBXepW9cJXn",
        "colab_type": "code",
        "cellView": "form",
        "outputId": "2bc70fa5-073b-4c48-d9ec-718aedaccabf",
        "colab": {
          "base_uri": "https://localhost:8080/",
          "height": 52
        }
      },
      "source": [
        "#@title Setup Ngork\n",
        "\n",
        "# 3 - setup Ngrok - authtoken\n",
        "\n",
        "#Ask token\n",
        "print(\"Get your authtoken from https://dashboard.ngrok.com/auth\")\n",
        "import getpass\n",
        "authtoken = getpass.getpass()\n",
        "\n",
        "#Create tunnel\n",
        "get_ipython().system_raw('./ngrok authtoken $authtoken && ./ngrok tcp 22 &')\n"
      ],
      "execution_count": 0,
      "outputs": [
        {
          "output_type": "stream",
          "text": [
            "Get your authtoken from https://dashboard.ngrok.com/auth\n",
            "··········\n"
          ],
          "name": "stdout"
        }
      ]
    },
    {
      "cell_type": "code",
      "metadata": {
        "id": "A5vauzXPc0_B",
        "colab_type": "code",
        "cellView": "form",
        "colab": {}
      },
      "source": [
        "#@title Git Stuff\n",
        "# %cd q3\n",
        "# !mkdir freeze_model\n",
        "# !git log --pretty=oneline | head -n 10 \n",
        "!git pull origin master\n",
        "# !git commit -m \"ok\"\n",
        "# !git diff retinanet/csv_eval.py\n",
        "# !git status\n",
        "# !git add Q3.ipynb\n",
        "# !git add Q3-Rohan.ipynb\n",
        "# !git commit -m \"ok\"\n",
        "# !git add q3/Q3.ipynb\n",
        "# !git add q3/Old-Q3.ipynb\n",
        "# !git commit -m \"Add notebooks\"\n",
        "# !git push origin master\n",
        "# !git stash push retinanet/csv_eval.py\n",
        "# %cd \"/content/drive/My Drive/Deep_Learning_Assignments/Assignment1/Q3/dlassignment1/q3\""
      ],
      "execution_count": 0,
      "outputs": []
    },
    {
      "cell_type": "code",
      "metadata": {
        "id": "nWlXtn0RfCq7",
        "colab_type": "code",
        "cellView": "both",
        "colab": {}
      },
      "source": [
        "#@title Imports\n",
        "import argparse\n",
        "import collections\n",
        "\n",
        "import numpy as np\n",
        "\n",
        "import torch\n",
        "import torch.nn as nn\n",
        "import torch.optim as optim\n",
        "from torchvision import transforms\n",
        "\n",
        "from retinanet import model\n",
        "from retinanet.dataloader import CocoDataset, CSVDataset, collater, Resizer, AspectRatioBasedSampler, Augmenter, \\\n",
        "    Normalizer\n",
        "from torch.utils.data import DataLoader\n",
        "\n",
        "from retinanet import coco_eval\n",
        "from retinanet import csv_eval\n",
        "from matplotlib import pyplot as plt\n"
      ],
      "execution_count": 0,
      "outputs": []
    },
    {
      "cell_type": "code",
      "metadata": {
        "id": "sHyuFKNTd3jl",
        "colab_type": "code",
        "colab": {}
      },
      "source": [
        "PATH_TO_DATASET = \"/content/drive/My Drive/Deep_Learning_Assignments/Assignment1/Q3/assignment-data\"\n",
        "PATH_TO_WEIGHTS = PATH_TO_DATASET + \"/pretrained_weights_cleaned.pt\"\n",
        "ANNOTATION_CSV =\"/content/drive/My Drive/Deep_Learning_Assignments/Assignment1/Q3/assignment-data/annotations/instances_train_csv.csv\"\n",
        "CLASS_LIST =\"/content/drive/My Drive/Deep_Learning_Assignments/Assignment1/Q3/assignment-data/annotations/class_list.csv\"\n",
        "TRAIN_CSV = \"/content/drive/My Drive/Deep_Learning_Assignments/Assignment1/Q3/assignment-data/annotations/train.csv\"\n",
        "VAL_CSV = \"/content/drive/My Drive/Deep_Learning_Assignments/Assignment1/Q3/assignment-data/annotations/val.csv\"\n",
        "\n",
        "# !cat \"{ANNOTATION_CSV}\""
      ],
      "execution_count": 0,
      "outputs": []
    },
    {
      "cell_type": "code",
      "metadata": {
        "id": "XteYyFH19YIk",
        "colab_type": "code",
        "cellView": "both",
        "colab": {}
      },
      "source": [
        "#@title Clean given weights\n",
        "pretrained_dict = torch.load(PATH_TO_WEIGHTS)\n",
        "retina_dict = retinanet.state_dict()\n",
        "\n",
        "def print_last(comment):\n",
        "  print(comment,pretrained_dict[\"classificationModel.output.weight\"].size())\n",
        "  print(comment,pretrained_dict[\"classificationModel.output.bias\"].size())\n",
        "\n",
        "for k, v in pretrained_dict.items():\n",
        "  if k in retina_dict:\n",
        "    if k == \"classificationModel.output.weight\":\n",
        "      #do something\n",
        "      v = v[:72, :, :, :]\n",
        "    elif k ==\"classificationModel.output.bias\":\n",
        "      v = v[:72]\n",
        "\n",
        "    pretrained_dict[k] = v\n",
        "# 2. overwrite entries in the existing state dict\n",
        "retina_dict.update(pretrained_dict) \n",
        "# 3. load the new state dict\n",
        "retinanet.load_state_dict(pretrained_dict)\n"
      ],
      "execution_count": 0,
      "outputs": []
    },
    {
      "cell_type": "code",
      "metadata": {
        "id": "K4eb9lyzi7FU",
        "colab_type": "code",
        "cellView": "form",
        "colab": {}
      },
      "source": [
        "#@title Default title text\n",
        "%autoreload 2\n",
        "dataset_train = CSVDataset(train_file = ANNOTATION_CSV, class_list=CLASS_LIST)\n",
        "retinanet = model.resnet50(num_classes=dataset_train.num_classes(),pretrained=False)\n",
        "\n",
        "sampler = AspectRatioBasedSampler(dataset_train, batch_size=2, drop_last=False)\n",
        "dataloader_train = DataLoader(dataset_train, num_workers=3, collate_fn=collater, batch_sampler=sampler)\n",
        "\n",
        "use_gpu = True\n",
        "\n",
        "if use_gpu:\n",
        "    retinanet = retinanet.cuda()\n",
        "\n",
        "def print_dict(model):\n",
        "  print(\"Model's state_dict:\")\n",
        "  for param_tensor in model.state_dict():\n",
        "      print(param_tensor, \"\\t\", model.state_dict()[param_tensor].size())\n",
        "\n",
        "# torch.save(retinanet.state_dict(), PATH_TO_DATASET + \"/pretrained_weights_cleaned.pt\")\n",
        "# print_dict(retinanet)\n",
        "# print(givenmodel['classificationModel.output.weight'])\n",
        "\n",
        "retinanet.load_state_dict(torch.load(PATH_TO_WEIGHTS))\n",
        "\n",
        "retinanet = torch.nn.DataParallel(retinanet).cuda()\n",
        "\n",
        "retinanet.training = False\n",
        "retinanet.eval()\n",
        "retinanet.module.freeze_bn()\n",
        "  \n",
        "coco_eval.evaluate_coco(dataset_train, retinanet)"
      ],
      "execution_count": 0,
      "outputs": []
    },
    {
      "cell_type": "code",
      "metadata": {
        "id": "RFI_4H4jZdq6",
        "colab_type": "code",
        "cellView": "both",
        "colab": {}
      },
      "source": [
        "#@title Make Reduced JSON\n",
        "\n",
        "# Make Reduced JSON\n",
        "INSTANCES_TRAIN_PATH = \"/content/drive/My Drive/Deep_Learning_Assignments/Assignment1/Q3/assignment-data/annotations/instances_train.json\"\n",
        "INSTANCES_TRAIN_ALT_PATH = \"/content/drive/My Drive/Deep_Learning_Assignments/Assignment1/Q3/assignment-data/annotations/instances_train_alt.json\"\n",
        "\n",
        "IMAGE_PATH = \"/content/drive/My Drive/Deep_Learning_Assignments/Assignment1/Q3/assignment-data/images/train/\"\n",
        "\n",
        "with open(INSTANCES_TRAIN_PATH) as f:\n",
        "  data = json.load(f)\n",
        "\n",
        "# data_final = {}\n",
        "\n",
        "# data_final[\"info\"] = data[\"info\"]\n",
        "# data_final[\"categories\"] = data[\"categories\"]\n",
        "# data_final[\"images\"] = []\n",
        "# data_final[\"annotations\"] = []\n",
        "# import os\n",
        "\n",
        "# root = IMAGE_PATH\n",
        "# file_map = {}\n",
        "# for path, subdirs, files in os.walk(root):\n",
        "#     if files:\n",
        "#         print(os.path.join(path, min(files)))\n",
        "#         for file in files:\n",
        "#           # print(file)\n",
        "#           file_map[file] = os.path.join(path, file)\n",
        "\n",
        "# def inFolder(elem):\n",
        "#   if elem in file_map:\n",
        "#     return True\n",
        "#   # print(elem)\n",
        "#   return False\n",
        "\n",
        "# # remove images which arent there\n",
        "# for elem in data[\"images\"]:\n",
        "#   if inFolder(elem[\"file_name\"]):\n",
        "#     data_final[\"images\"].append(elem)\n",
        "\n",
        "# for elem in data[\"annotations\"]:\n",
        "#   if inFolder(elem[\"image_id\"]+\".jpg\"):\n",
        "#     data_final[\"annotations\"].append(elem)\n",
        "\n",
        "# print(len(data[\"images\"]),len(data[\"annotations\"]))\n",
        "# print(len(data_final[\"images\"]),len(data_final[\"annotations\"]))\n",
        "\n",
        "# f = open(INSTANCES_TRAIN_ALT_PATH,'w')\n",
        "# json.dump(data_final,f)\n"
      ],
      "execution_count": 0,
      "outputs": []
    },
    {
      "cell_type": "code",
      "metadata": {
        "id": "kGmb-cE4pkPj",
        "colab_type": "code",
        "cellView": "both",
        "colab": {}
      },
      "source": [
        "#@title Shift all files to train/\n",
        "\n",
        "# !ls -l \"/content/drive/My Drive/Deep_Learning_Assignments/Assignment1/Q3/assignment-data/annotations/\"\n",
        "# with open(INSTANCES_TRAIN_ALT_PATH) as f:\n",
        "#   data = json.load(f)\n",
        "# print(len(data[\"images\"]),len(data[\"annotations\"]))\n",
        "# !mv \"/content/drive/My Drive/Deep_Learning_Assignments/Assignment1/Q3/assignment-data/annotations/instances_train.json\" \"/content/drive/My Drive/Deep_Learning_Assignments/Assignment1/Q3/assignment-data/annotations/temp.json\"\n",
        "# !mv \"/content/drive/My Drive/Deep_Learning_Assignments/Assignment1/Q3/assignment-data/annotations/instances_train_alt.json\" \"/content/drive/My Drive/Deep_Learning_Assignments/Assignment1/Q3/assignment-data/annotations/instances_train.json\"\n",
        "\n",
        "# %cd \"/content/drive/My Drive/Deep_Learning_Assignments/Assignment1/Q3/assignment-data/images\"\n",
        "# !unzip -q train.zip\n",
        "\n",
        "\n",
        "# import shutil\n",
        "# IMAGE_PATH = \"/content/drive/My Drive/Deep_Learning_Assignments/Assignment1/Q3/assignment-data/images/train\"\n",
        "# for file in file_map.keys():\n",
        "#   oldpath = file_map[file]\n",
        "#   newpath = IMAGE_PATH\n",
        "#   print(oldpath,newpath)\n",
        "#   # command = \"mv \" + oldpath+\" \"+newpath\n",
        "#   # os.system(command)\n",
        "#   shutil.move(oldpath,newpath)\n",
        "  # !mv {oldpath} {newpath}"
      ],
      "execution_count": 0,
      "outputs": []
    },
    {
      "cell_type": "code",
      "metadata": {
        "id": "dLHK0AhMryzn",
        "colab_type": "code",
        "colab": {}
      },
      "source": [
        "# !ls -l \"/content/drive/My Drive/Deep_Learning_Assignments/Assignment1/Q3/assignment-data/images/train\"\n",
        "!pwd"
      ],
      "execution_count": 0,
      "outputs": []
    },
    {
      "cell_type": "code",
      "metadata": {
        "id": "xQW1WBcWI7oF",
        "colab_type": "code",
        "cellView": "both",
        "colab": {}
      },
      "source": [
        "#@title Generate annotation CSV\n",
        "# import csv\n",
        "\n",
        "# class_map = {\n",
        "# 11:\"bird\",\n",
        "# 6:\"bobcat\",\n",
        "# 33:\"car\",\n",
        "# 16:\"cat\",\n",
        "# 3:\"raccoon\",\n",
        "# 10:\"rabbit\",\n",
        "# 9:\"coyote\",\n",
        "# 5:\"squirrel\"\n",
        "# }\n",
        "# !rm -rf \"{ANNOTATION_CSV}\"\n",
        "# with open(INSTANCES_TRAIN_PATH) as f:\n",
        "#   data = json.load(f)\n",
        "# f_csv = open(ANNOTATION_CSV, 'w', newline='')\n",
        "# writer = csv.writer(f_csv)\n",
        "# for anno in data[\"annotations\"]:\n",
        "#   img_path = IMAGE_PATH + anno[\"image_id\"] + \".jpg\"\n",
        "#   bbox = [int(x) for x in anno[\"bbox\"]]\n",
        "#   bbox[2] = bbox[0] + bbox[2]\n",
        "#   bbox[3] = bbox[1] + bbox[3]\n",
        "#   if(anno[\"category_id\"] in class_map):\n",
        "#     class_name = class_map[anno[\"category_id\"]]\n",
        "#     writer.writerow([img_path,bbox[0],bbox[1],bbox[2],bbox[3],class_name])\n"
      ],
      "execution_count": 0,
      "outputs": []
    },
    {
      "cell_type": "code",
      "metadata": {
        "id": "u03Noj1GOqU3",
        "colab_type": "code",
        "colab": {}
      },
      "source": [
        "!cat \"/content/drive/My Drive/Deep_Learning_Assignments/Assignment1/Q3/assignment-data/annotations/instances_train_csv.csv\""
      ],
      "execution_count": 0,
      "outputs": []
    },
    {
      "cell_type": "code",
      "metadata": {
        "id": "ApBFbre3PBMc",
        "colab_type": "code",
        "colab": {}
      },
      "source": [
        "f_csv = open(CLASS_LIST, 'w', newline='')\n",
        "writer = csv.writer(f_csv)\n",
        "lines = [\n",
        "[\"bird\",\"0\"],\n",
        "[\"bobcat\",\"1\"],\n",
        "[\"car\",\"2\"],\n",
        "[\"cat\",\"3\"],\n",
        "[\"raccoon\",\"4\"],\n",
        "[\"rabbit\",\"5\"],\n",
        "[\"coyote\",\"6\"],\n",
        "[\"squirrel\",\"7\"]\n",
        "]\n",
        "# for line in lines:\n",
        "#   writer.writerow(line)"
      ],
      "execution_count": 0,
      "outputs": []
    },
    {
      "cell_type": "code",
      "metadata": {
        "id": "R3VNNRmkTfoW",
        "colab_type": "code",
        "colab": {}
      },
      "source": [
        "# !python visualize.py --dataset csv --csv_classes \"{CLASS_LIST}\" --csv_val \"{ANNOTATION_CSV}\" --model \"{PATH_TO_WEIGHTS}\"\n",
        "%%time\n",
        "!python train_freeze.py --dataset csv --csv_train \"{TRAIN_CSV}\"  --csv_classes \"{CLASS_LIST}\" --epochs 1 --csv_val \"{VAL_CSV}\""
      ],
      "execution_count": 0,
      "outputs": []
    },
    {
      "cell_type": "code",
      "metadata": {
        "id": "6wqzouoQnsMT",
        "colab_type": "code",
        "outputId": "cdb51959-d220-4ca5-e791-7566827a021d",
        "colab": {
          "base_uri": "https://localhost:8080/",
          "height": 1000
        }
      },
      "source": [
        "%%time\n",
        "BEST_WEIGHTS = \"/content/drive/My Drive/Deep_Learning_Assignments/Assignment1/Q3/dlassignment1/q3/freeze_model/csv_retinanet_best_model.pt\"\n",
        "\n",
        "parser = {\"csv_classes\":CLASS_LIST, \"csv_val\":VAL_CSV, \"csv_train\":TRAIN_CSV, \"epochs\":10 }\n",
        "\n",
        "dataset_train = CSVDataset(train_file=parser[\"csv_train\"], class_list=parser[\"csv_classes\"],\n",
        "                                   transform=transforms.Compose([Normalizer(), Augmenter(), Resizer()]))\n",
        "dataset_val = CSVDataset(train_file=parser[\"csv_val\"], class_list=parser[\"csv_classes\"],\n",
        "                                     transform=transforms.Compose([Normalizer(), Resizer()]))\n",
        "\n",
        "sampler = AspectRatioBasedSampler(dataset_train, batch_size=2, drop_last=False)\n",
        "dataloader_train = DataLoader(dataset_train, num_workers=3, collate_fn=collater, batch_sampler=sampler)\n",
        "\n",
        "sampler_val = AspectRatioBasedSampler(dataset_val, batch_size=1, drop_last=False)\n",
        "dataloader_val = DataLoader(dataset_val, num_workers=3, collate_fn=collater, batch_sampler=sampler_val)\n",
        "\n",
        "retinanet = model.resnet50(num_classes=dataset_train.num_classes(),)\n",
        "\n",
        "# for param in retinanet.parameters():\n",
        "#     param.requires_grad = False\n",
        "# for param in retinanet.classificationModel.output.parameters():\n",
        "#     param.requires_grad = True\n",
        "# for param in retinanet.regressionModel.output.parameters():\n",
        "#     param.requires_grad = True\n",
        "\n",
        "use_gpu = True\n",
        "\n",
        "if use_gpu:\n",
        "    retinanet = retinanet.cuda()\n",
        "\n",
        "PATH_TO_DATASET = \"/content/drive/My Drive/Deep_Learning_Assignments/Assignment1/Q3/assignment-data\"\n",
        "PATH_TO_WEIGHTS = PATH_TO_DATASET + \"/pretrained_weights_cleaned.pt\"\n",
        "\n",
        "retinanet.load_state_dict(torch.load(PATH_TO_WEIGHTS))\n",
        "# retinanet = torch.load(BEST_WEIGHTS)\n",
        "\n",
        "retinanet = torch.nn.DataParallel(retinanet).cuda()\n",
        "\n",
        "retinanet.training = True\n",
        "\n",
        "optimizer = optim.Adam(filter(lambda p: p.requires_grad, retinanet.parameters()), lr=1e-5)\n",
        "\n",
        "scheduler = optim.lr_scheduler.ReduceLROnPlateau(optimizer, patience=3, verbose=True)\n",
        "\n",
        "loss_hist = collections.deque(maxlen=500)\n",
        "\n",
        "loss_all_epochs = []\n",
        "map_all_epochs = []\n",
        "\n",
        "def avg(mAP):\n",
        "  avg_map = 0\n",
        "  for key in mAP:\n",
        "    avg_map += mAP[key][0]\n",
        "  avg_map /= 8\n",
        "\n",
        "  print(\"Avg mAP\",avg_map)\n",
        "\n",
        "  return avg_map\n",
        "\n",
        "\n",
        "retinanet.train()\n",
        "retinanet.module.freeze_bn()\n",
        "file1 = open(\"logfreezefour.txt\",\"w\")\n",
        "print('Num training images: {}'.format(len(dataset_train)))\n",
        "\n",
        "best_loss = 100\n",
        "best_map = 0\n",
        "for epoch_num in range(parser[\"epochs\"]):\n",
        "    print(\"\\nEpoch\",epoch_num)\n",
        "    retinanet.train()\n",
        "    retinanet.module.freeze_bn()\n",
        "\n",
        "    # if epoch_num == 10:\n",
        "    #   for param in retinanet.parameters():\n",
        "    #     param.requires_grad = True\n",
        "    #   optimizer = optim.Adam(filter(lambda p: p.requires_grad, retinanet.parameters()), lr=1e-5)\n",
        "    \n",
        "    # if epoch_num == 10:\n",
        "    #   for param in retinanet.parameters():\n",
        "    #       param.requires_grad = False\n",
        "    #   for param in retinanet.classificationModel.output.parameters():\n",
        "    #       param.requires_grad = True\n",
        "    #   for param in retinanet.regressionModel.output.parameters():\n",
        "    #       param.requires_grad = True\n",
        "    #   optimizer = optim.Adam(filter(lambda p: p.requires_grad, retinanet.parameters()), lr=1e-5)\n",
        "\n",
        "    epoch_loss = []\n",
        "\n",
        "    for iter_num, data in enumerate(dataloader_train):\n",
        "        try:\n",
        "            optimizer.zero_grad()\n",
        "\n",
        "            classification_loss, regression_loss = retinanet([data['img'].cuda().float(), data['annot']])\n",
        "\n",
        "            classification_loss = classification_loss.mean()\n",
        "            regression_loss = regression_loss.mean()\n",
        "\n",
        "            loss = classification_loss + regression_loss\n",
        "\n",
        "            if bool(loss == 0):\n",
        "                continue\n",
        "\n",
        "            loss.backward()\n",
        "\n",
        "            torch.nn.utils.clip_grad_norm_(retinanet.parameters(), 0.1)\n",
        "\n",
        "            optimizer.step()\n",
        "\n",
        "            loss_hist.append(float(loss))\n",
        "\n",
        "            epoch_loss.append(float(loss))\n",
        "\n",
        "            # print(\n",
        "            #     'Epoch: {} | Iteration: {} | Classification loss: {:1.5f} | Regression loss: {:1.5f} | Running loss: {:1.5f}'.format(\n",
        "            #         epoch_num, iter_num, float(classification_loss), float(regression_loss), np.mean(loss_hist)))\n",
        "            \n",
        "            file1.write('Epoch: {} | Iteration: {} | Classification loss: {:1.5f} | Regression loss: {:1.5f} | Running loss: {:1.5f} \\n'.format(\n",
        "                    epoch_num, iter_num, float(classification_loss), float(regression_loss), np.mean(loss_hist)))\n",
        "            \n",
        "            del classification_loss\n",
        "            del regression_loss\n",
        "        except Exception as e:\n",
        "            print(e)\n",
        "            continue\n",
        "\n",
        "    print('Evaluating dataset')\n",
        "\n",
        "    mAP = csv_eval.evaluate(dataset_val, retinanet)\n",
        "    avg_mAP = avg(mAP)\n",
        "    map_all_epochs.append(avg_mAP)\n",
        "\n",
        "    mean_loss = np.mean(epoch_loss)\n",
        "\n",
        "    scheduler.step(mean_loss)\n",
        "\n",
        "    loss_all_epochs.append(mean_loss)\n",
        "\n",
        "\n",
        "    if(mean_loss < best_loss):\n",
        "        torch.save(retinanet.module, 'freeze_model/fourth/{}_retinanet_{}.pt'.format(\"csv\", \"best_model_loss\"))\n",
        "        best_loss = mean_loss\n",
        "    \n",
        "    if(avg_mAP > best_map):\n",
        "      torch.save(retinanet.module, 'freeze_model/fourth/{}_retinanet_{}.pt'.format(\"csv\", \"best_model_mAP\"))\n",
        "      best_map = avg_mAP\n",
        "    \n",
        "    torch.save(retinanet.module, 'freeze_model/fourth/{}_retinanet_{}.pt'.format(\"csv\", epoch_num))\n",
        "    print(\"Best loss:\",best_loss,\"Best mAP:\",best_map)\n",
        "\n",
        "retinanet.eval()\n",
        "file1.close()\n",
        "torch.save(retinanet, 'freeze_model/fourth/model_final.pt')\n",
        "\n",
        "print(\"Loss curve\")\n",
        "x_axis = [x for x in range(parser[\"epochs\"])]\n",
        "plt.plot(x_axis,loss_all_epochs)\n",
        "plt.xlabel(\"Epochs\")\n",
        "plt.ylabel(\"Running Loss\")\n",
        "plt.savefig(\"/content/drive/My Drive/Deep_Learning_Assignments/Assignment1/Q3/dlassignment1/q3/freeze_model/fourth/losscurve.png\")\n",
        "\n",
        "plt.figure()\n",
        "plt.xlabel(\"Epochs\")\n",
        "plt.ylabel(\"mAP\")\n",
        "plt.plot(x_axis,map_all_epochs)\n",
        "plt.savefig(\"/content/drive/My Drive/Deep_Learning_Assignments/Assignment1/Q3/dlassignment1/q3/freeze_model/fourth/mapcurve.png\")"
      ],
      "execution_count": 14,
      "outputs": [
        {
          "output_type": "stream",
          "text": [
            "Num training images: 1153\n",
            "\n",
            "Epoch 0\n",
            "Evaluating dataset\n",
            "\n",
            "mAP:\n",
            "bird: 0.08626936957400787\n",
            "bobcat: 0.44003754465160716\n",
            "car: 0.9974724264705882\n",
            "cat: 0.10204147198596142\n",
            "raccoon: 0.4829078974660162\n",
            "rabbit: 0.11418080812815078\n",
            "coyote: 0.000984848484848485\n",
            "squirrel: 0.09324406853053041\n",
            "Avg mAP 0.2896423044114638\n",
            "Best loss: 0.8177677926638097 Best mAP: 0.2896423044114638\n",
            "\n",
            "Epoch 1\n",
            "Evaluating dataset\n",
            "\n",
            "mAP:\n",
            "bird: 0.1796865668053052\n",
            "bobcat: 0.49132844764870304\n",
            "car: 0.9991496598639455\n",
            "cat: 0.2807920712719537\n",
            "raccoon: 0.8044566491340999\n",
            "rabbit: 0.35173673108959\n",
            "coyote: 0.00908731584620913\n",
            "squirrel: 0.24309949182427268\n",
            "Avg mAP 0.4199171166855099\n",
            "Best loss: 0.5749401108917023 Best mAP: 0.4199171166855099\n",
            "\n",
            "Epoch 2\n",
            "Evaluating dataset\n",
            "\n",
            "mAP:\n",
            "bird: 0.3202460146402324\n",
            "bobcat: 0.29501408039551\n",
            "car: 0.9991666666666666\n",
            "cat: 0.3612125512901856\n",
            "raccoon: 0.8415653961300411\n",
            "rabbit: 0.5807705452961547\n",
            "coyote: 0.10916017009213325\n",
            "squirrel: 0.2893325334731463\n",
            "Avg mAP 0.47455849474800876\n",
            "Best loss: 0.4663232709777475 Best mAP: 0.47455849474800876\n",
            "\n",
            "Epoch 3\n",
            "Evaluating dataset\n",
            "506/506\n",
            "mAP:\n",
            "bird: 0.37504880605202506\n",
            "bobcat: 0.6927038764944113\n",
            "car: 0.9995748299319728\n",
            "cat: 0.64812836695837\n",
            "raccoon: 0.8178280378207368\n",
            "rabbit: 0.6058435705001888\n",
            "coyote: 0.20240623295144572\n",
            "squirrel: 0.46363011347590977\n",
            "Avg mAP 0.6006454792731325\n",
            "Best loss: 0.38056579278297786 Best mAP: 0.6006454792731325\n",
            "\n",
            "Epoch 4\n",
            "Evaluating dataset\n",
            "506/506\n",
            "mAP:\n",
            "bird: 0.4089404372947286\n",
            "bobcat: 0.6484879702078685\n",
            "car: 0.9995748299319728\n",
            "cat: 0.6311267672386598\n",
            "raccoon: 0.8257399707305605\n",
            "rabbit: 0.6332834638973733\n",
            "coyote: 0.21152884615384615\n",
            "squirrel: 0.5447834866720448\n",
            "Avg mAP 0.6129332215158818\n",
            "Best loss: 0.3183963736339651 Best mAP: 0.6129332215158818\n",
            "\n",
            "Epoch 5\n",
            "Evaluating dataset\n",
            "506/506\n",
            "mAP:\n",
            "bird: 0.4514678540393877\n",
            "bobcat: 0.6485295965591751\n",
            "car: 0.9995748299319728\n",
            "cat: 0.7011296458974305\n",
            "raccoon: 0.854148194455877\n",
            "rabbit: 0.6391004971903047\n",
            "coyote: 0.6322013630691689\n",
            "squirrel: 0.5757797965741326\n",
            "Avg mAP 0.6877414722146812\n",
            "Best loss: 0.27570347278217494 Best mAP: 0.6877414722146812\n",
            "\n",
            "Epoch 6\n",
            "Evaluating dataset\n",
            "506/506\n",
            "mAP:\n",
            "bird: 0.35704848608626516\n",
            "bobcat: 0.8061076775973426\n",
            "car: 0.9991666666666666\n",
            "cat: 0.7027134110682781\n",
            "raccoon: 0.84946951411563\n",
            "rabbit: 0.6744595436198793\n",
            "coyote: 0.6702192806002311\n",
            "squirrel: 0.5649288250642047\n",
            "Avg mAP 0.7030141756023123\n",
            "Best loss: 0.236242781216085 Best mAP: 0.7030141756023123\n",
            "\n",
            "Epoch 7\n",
            "Evaluating dataset\n",
            "506/506\n",
            "mAP:\n",
            "bird: 0.3577528379772961\n",
            "bobcat: 0.674133495351349\n",
            "car: 0.9995748299319728\n",
            "cat: 0.7205659647570828\n",
            "raccoon: 0.8536066480271689\n",
            "rabbit: 0.6354989171468799\n",
            "coyote: 0.6285272338259162\n",
            "squirrel: 0.5872853506993962\n",
            "Avg mAP 0.6821181597146327\n",
            "Best loss: 0.19908233455856827 Best mAP: 0.7030141756023123\n",
            "\n",
            "Epoch 8\n",
            "Evaluating dataset\n",
            "506/506\n",
            "mAP:\n",
            "bird: 0.32719880618557595\n",
            "bobcat: 0.6989231328061923\n",
            "car: 0.9995748299319728\n",
            "cat: 0.762475656343012\n",
            "raccoon: 0.8308568890440431\n",
            "rabbit: 0.6350909772386534\n",
            "coyote: 0.7114516687200796\n",
            "squirrel: 0.5745322629089605\n",
            "Avg mAP 0.6925130278973112\n",
            "Best loss: 0.18030464825316445 Best mAP: 0.7030141756023123\n",
            "\n",
            "Epoch 9\n",
            "Evaluating dataset\n",
            "506/506\n",
            "mAP:\n",
            "bird: 0.2352880145725562\n",
            "bobcat: 0.8415369172637985\n",
            "car: 0.9983974358974359\n",
            "cat: 0.7133180668179798\n",
            "raccoon: 0.833884094473433\n",
            "rabbit: 0.6104461973558677\n",
            "coyote: 0.629082698910285\n",
            "squirrel: 0.6340262163960682\n",
            "Avg mAP 0.6869974552109279\n",
            "Best loss: 0.15456682762631055 Best mAP: 0.7030141756023123\n",
            "Loss curve\n",
            "CPU times: user 1h 12min 13s, sys: 15min 58s, total: 1h 28min 12s\n",
            "Wall time: 2h 28min 55s\n"
          ],
          "name": "stdout"
        },
        {
          "output_type": "display_data",
          "data": {
            "image/png": "[encoded data removed]",
            "text/plain": [
              "<Figure size 432x288 with 1 Axes>"
            ]
          },
          "metadata": {
            "tags": []
          }
        },
        {
          "output_type": "display_data",
          "data": {
            "image/png": "[encoded data removed]",
            "text/plain": [
              "<Figure size 432x288 with 1 Axes>"
            ]
          },
          "metadata": {
            "tags": []
          }
        }
      ]
    },
    {
      "cell_type": "code",
      "metadata": {
        "id": "KO6ffxI9ozZP",
        "colab_type": "code",
        "outputId": "5f08cc28-280c-48a5-8236-227abfa6ccd5",
        "colab": {
          "base_uri": "https://localhost:8080/",
          "height": 35
        }
      },
      "source": [
        "print(loss_all_epochs)"
      ],
      "execution_count": 0,
      "outputs": [
        {
          "output_type": "stream",
          "text": [
            "[0.28988073679353826, 0.25252093812870424, 0.21545790356383748, 0.18868819646217716, 0.16916730437269176]\n"
          ],
          "name": "stdout"
        }
      ]
    },
    {
      "cell_type": "code",
      "metadata": {
        "id": "FYfM9tmhxTBX",
        "colab_type": "code",
        "outputId": "ace01ca0-c4c2-4229-d008-aa339ba2a6c2",
        "colab": {
          "base_uri": "https://localhost:8080/",
          "height": 558
        }
      },
      "source": [
        "# print(\"Loss curve\")\n",
        "# x_axis = [x for x in range(parser[\"epochs\"])]\n",
        "# plt.plot(x_axis,loss_all_epochs)\n",
        "# plt.xlabel(\"Epochs\")\n",
        "# plt.ylabel(\"Running Loss\")\n",
        "# plt.savefig(\"/content/drive/My Drive/Deep_Learning_Assignments/Assignment1/Q3/dlassignment1/q3/freeze_model/third/losscurve.png\")\n",
        "\n",
        "# plt.figure()\n",
        "# plt.xlabel(\"Epochs\")\n",
        "# plt.ylabel(\"mAP\")\n",
        "# plt.plot(x_axis,map_all_epochs)\n",
        "# plt.savefig(\"/content/drive/My Drive/Deep_Learning_Assignments/Assignment1/Q3/dlassignment1/q3/freeze_model/third/mapcurve.png\")\n"
      ],
      "execution_count": 12,
      "outputs": [
        {
          "output_type": "stream",
          "text": [
            "Loss curve\n"
          ],
          "name": "stdout"
        },
        {
          "output_type": "display_data",
          "data": {
            "image/png": "[encoded data removed]",
            "text/plain": [
              "<Figure size 432x288 with 1 Axes>"
            ]
          },
          "metadata": {
            "tags": []
          }
        },
        {
          "output_type": "display_data",
          "data": {
            "image/png": "[encoded data removed]",
            "text/plain": [
              "<Figure size 432x288 with 1 Axes>"
            ]
          },
          "metadata": {
            "tags": []
          }
        }
      ]
    }
  ]
}